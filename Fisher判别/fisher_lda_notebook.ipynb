{
 "cells": [
  {
   "cell_type": "markdown",
   "id": "44c954eb",
   "metadata": {},
   "source": [
    "# Fisher 判别（LDA）大作业 - 运行版\n",
    "\n",
    "这是为你准备的**完整 Jupyter Notebook 模板**，你可以直接下载并在本地运行（推荐使用 Anaconda + JupyterLab/Notebook）。\n",
    "\n",
    "**包含内容**：\n",
    "\n",
    "- 手写实现 Fisher 判别 / 多类 LDA（含数值稳定性处理）\n",
    "- 在 Iris（内置）与 Sonar（UCI）上做实验（Stratified k-fold CV）\n",
    "- 绘制：Accuracy vs 投影维数、投影散点图、ROC（Sonar）等\n",
    "- 与 sklearn 的 LinearDiscriminantAnalysis 做对比\n",
    "\n",
    "**如何使用**：\n",
    "\n",
    "1. 下载本 notebook（页面下方提供下载链接）。\n",
    "2. 在能联网的环境中运行（Sonar 数据需要从 UCI 下载，Notebook 中有自动下载代码；若公司/校园网络限制，可手动下载 sonar 数据并放到 notebooks 同目录下）。\n",
    "3. 按顺序运行每个 Cell，查看并复制输出结果到你的报告中。\n",
    "\n",
    "如果你不希望/不能联网，也可以只运行 Iris 部分（Iris 数据内置）。\n",
    "\n",
    "---\n",
    "\n",
    "下面是 notebook 的内容（已包含注释，便于你“零代码”运行）。"
   ]
  },
  {
   "cell_type": "code",
   "execution_count": 1,
   "id": "1a0dca2c",
   "metadata": {},
   "outputs": [
    {
     "name": "stdout",
     "output_type": "stream",
     "text": [
      "Libraries imported. Numpy version: 1.26.4\n"
     ]
    }
   ],
   "source": [
    "# 导入常用库（运行前请确保已安装：numpy, scipy, scikit-learn, matplotlib, pandas）\n",
    "import numpy as np\n",
    "import pandas as pd\n",
    "import matplotlib.pyplot as plt\n",
    "from sklearn.datasets import load_iris\n",
    "from sklearn.model_selection import StratifiedKFold\n",
    "from sklearn.preprocessing import StandardScaler\n",
    "from sklearn.metrics import accuracy_score, confusion_matrix, roc_curve, auc\n",
    "from sklearn.discriminant_analysis import LinearDiscriminantAnalysis\n",
    "import time\n",
    "plt.rcParams['figure.figsize'] = (6,4)\n",
    "print('Libraries imported. Numpy version:', np.__version__)"
   ]
  },
  {
   "cell_type": "markdown",
   "id": "f69d39ed",
   "metadata": {},
   "source": [
    "## 载入数据集\n",
    "\n",
    "- **Iris**：直接使用 sklearn 内置加载函数。\n",
    "- **Sonar**：UCI 上的 `sonar.all-data` 文件。下面给出两种方式：\n",
    "  1. 自动下载（需要联网）。\n",
    "  2. 如果无法联网，请手动从 UCI 页面下载 `sonar.all-data`，并将其放到本 notebook 的同一目录，命名为 `sonar.all-data`。\n",
    "\n",
    "**UCI Sonar 数据集 URL（页面）**: https://archive.ics.uci.edu/ml/datasets/connectionist+bench+(sonar,+mines+vs.+rocks)\n",
    "\n",
    "（Notebook 中包含自动下载代码；若你本地能联网，运行该 Cell 会尝试下载并解析 Sonar）"
   ]
  },
  {
   "cell_type": "code",
   "execution_count": 2,
   "id": "e951e3d6",
   "metadata": {},
   "outputs": [
    {
     "name": "stdout",
     "output_type": "stream",
     "text": [
      "Iris shapes: (150, 4) (150,)\n",
      "Iris class names: ['setosa' 'versicolor' 'virginica']\n"
     ]
    }
   ],
   "source": [
    "# Load Iris (built-in)\n",
    "iris = load_iris()\n",
    "X_iris = iris.data\n",
    "y_iris = iris.target\n",
    "print('Iris shapes:', X_iris.shape, y_iris.shape)\n",
    "print('Iris class names:', iris.target_names)"
   ]
  },
  {
   "cell_type": "code",
   "execution_count": null,
   "id": "4f6503e2",
   "metadata": {},
   "outputs": [],
   "source": [
    "# Load Sonar: try to download; if fails, try to read local file 'sonar.all-data'\n",
    "import os\n",
    "sonar_url = 'https://archive.ics.uci.edu/ml/machine-learning-databases/undocumented/connectionist-bench/sonar/sonar.all-data'\n",
    "sonar_local = 'sonar.all-data'\n",
    "\n",
    "def load_sonar():\n",
    "    # Try to read local file first\n",
    "    if os.path.exists(sonar_local):\n",
    "        print('Loading Sonar from local file:', sonar_local)\n",
    "        df = pd.read_csv(sonar_local, header=None)\n",
    "    else:\n",
    "        # Try to download (this requires network access)\n",
    "        try:\n",
    "            import requests\n",
    "            print('Downloading Sonar from UCI...')\n",
    "            r = requests.get(sonar_url, timeout=30)\n",
    "            r.raise_for_status()\n",
    "            open(sonar_local, 'wb').write(r.content)\n",
    "            df = pd.read_csv(sonar_local, header=None)\n",
    "            print('Downloaded and saved to', sonar_local)\n",
    "        except Exception as e:\n",
    "            print('自动下载失败（可能因网络限制）。请手动从 UCI 下载 sonar.all-data 并放到当前目录，或确保本环境能联网。')\n",
    "            raise e\n",
    "    # Last column is label 'R' or 'M'\n",
    "    X = df.iloc[:, :-1].values.astype(float)\n",
    "    y_raw = df.iloc[:, -1].values\n",
    "    y = np.array([1 if lab.strip()=='M' else 0 for lab in y_raw])  # M = mine (1), R = rock (0)\n",
    "    return X, y\n",
    "\n",
    "# Note: In this execution environment internet may be disabled; if load_sonar() fails here, it's fine.\n",
    "try:\n",
    "    X_sonar, y_sonar = load_sonar()\n",
    "    print('Sonar shapes:', X_sonar.shape, y_sonar.shape)\n",
    "except Exception as e:\n",
    "    print('Sonar 数据未能加载到这个环境。不要担心：在你自己的电脑上运行此 notebook（有网络或手动放置文件）即可。')"
   ]
  },
  {
   "cell_type": "markdown",
   "id": "b0b25c77",
   "metadata": {},
   "source": [
    "## 手写 LDA（多类与二类通用实现）\n",
    "\n",
    "下面的实现包含：\n",
    "\n",
    "- 计算类内散度矩阵 $S_w$ 和类间散度矩阵 $S_b$。\n",
    "\n",
    "- 对 $S_w^{-1} S_b$ 求特征值/特征向量，得到前 k 个判别向量。\n",
    "\n",
    "- 数值稳定处理：在求逆前添加小正则项 $\\\\epsilon I$。\n",
    "\n",
    "实现后的函数 `lda_fit` 返回投影矩阵 `W`（每列为一个判别方向），`lda_project` 将数据投影到这些方向上。"
   ]
  },
  {
   "cell_type": "code",
   "execution_count": null,
   "id": "f0fc55b6",
   "metadata": {},
   "outputs": [],
   "source": [
    "import numpy.linalg as la\n",
    "\n",
    "def lda_fit(X, y, n_components=None, reg=1e-6):\n",
    "    '''\n",
    "    手写 LDA：\n",
    "    X: (n_samples, n_features)\n",
    "    y: (n_samples,)  int labels: 0..c-1\n",
    "    n_components: desired number of discriminant directions (<= min(c-1, n_features))\n",
    "    reg: regularization added to S_w for numerical stability\n",
    "    returns W: (n_features, n_components), eigenvalues\n",
    "    '''\n",
    "    classes = np.unique(y)\n",
    "    n_features = X.shape[1]\n",
    "    if n_components is None:\n",
    "        n_components = min(len(classes)-1, n_features)\n",
    "    overall_mean = np.mean(X, axis=0)\n",
    "    # within-class scatter\n",
    "    S_w = np.zeros((n_features, n_features))\n",
    "    S_b = np.zeros((n_features, n_features))\n",
    "    for cl in classes:\n",
    "        Xc = X[y==cl]\n",
    "        mean_c = np.mean(Xc, axis=0)\n",
    "        # within\n",
    "        Xc_centered = Xc - mean_c\n",
    "        S_w += Xc_centered.T.dot(Xc_centered)\n",
    "        # between\n",
    "        n_c = Xc.shape[0]\n",
    "        mean_diff = (mean_c - overall_mean).reshape(n_features,1)\n",
    "        S_b += n_c * (mean_diff).dot(mean_diff.T)\n",
    "    # regularize S_w\n",
    "    S_w_reg = S_w + reg * np.eye(n_features)\n",
    "    # solve generalized eigenvalue problem: S_b v = lambda S_w v  -> equivalent to inv(S_w) S_b v = lambda v\n",
    "    # compute matrix for eig\n",
    "    mat = la.inv(S_w_reg).dot(S_b)\n",
    "    eigvals, eigvecs = la.eig(mat)\n",
    "    # sort by eigenvalue magnitude descending\n",
    "    idx = np.argsort(-np.abs(eigvals.real))\n",
    "    eigvals = eigvals.real[idx]\n",
    "    eigvecs = eigvecs.real[:, idx]\n",
    "    W = eigvecs[:, :n_components]\n",
    "    return W, eigvals[:n_components]\n",
    "\n",
    "def lda_project(X, W):\n",
    "    return X.dot(W)\n",
    "\n",
    "# Quick sanity check on Iris\n",
    "W_iris, eigs_iris = lda_fit(X_iris, y_iris, n_components=2)\n",
    "print('W_iris shape:', W_iris.shape)\n",
    "print('Top eigenvalues (iris):', eigs_iris)"
   ]
  },
  {
   "cell_type": "markdown",
   "id": "494da10b",
   "metadata": {},
   "source": [
    "## 在投影空间上的分类与交叉验证（Stratified k-fold）\n",
    "\n",
    "这里使用**最近类均值（Nearest Centroid）**作为投影空间的简单分类器：\n",
    "\n",
    "1. 在训练集上拟合 LDA（得到 W）。\n",
    "2. 将训练集投影并计算各类投影均值。\n",
    "3. 将测试集投影，按最近均值分配标签。\n",
    "\n",
    "下面实现 `evaluate_lda_cv`：对不同投影维数 `d_list` 做性能曲线（accuracy 平均与标准差）。"
   ]
  },
  {
   "cell_type": "code",
   "execution_count": null,
   "id": "604eed06",
   "metadata": {},
   "outputs": [],
   "source": [
    "from sklearn.base import BaseEstimator, ClassifierMixin\n",
    "\n",
    "class NearestCentroidInProjectedSpace(BaseEstimator, ClassifierMixin):\n",
    "    def __init__(self):\n",
    "        self.centroids_ = None\n",
    "    def fit(self, X_proj, y):\n",
    "        classes = np.unique(y)\n",
    "        self.classes_ = classes\n",
    "        self.centroids_ = np.vstack([X_proj[y==c].mean(axis=0) for c in classes])\n",
    "        return self\n",
    "    def predict(self, X_proj):\n",
    "        # compute distances to centroids\n",
    "        dists = np.linalg.norm(X_proj[:, None, :] - self.centroids_[None, :, :], axis=2)\n",
    "        idx = np.argmin(dists, axis=1)\n",
    "        return self.classes_[idx]\n",
    "\n",
    "def evaluate_lda_cv(X, y, d_list, n_splits=5, random_state=0, reg=1e-6):\n",
    "    \"\"\"\n",
    "    For each d in d_list, perform StratifiedKFold CV, fit LDA on training fold, fit nearest-centroid on projected training data,\n",
    "    evaluate on test fold. Return mean acc and std acc for each d.\n",
    "    \"\"\"\n",
    "    skf = StratifiedKFold(n_splits=n_splits, shuffle=True, random_state=random_state)\n",
    "    results = {d: [] for d in d_list}\n",
    "    for train_idx, test_idx in skf.split(X, y):\n",
    "        X_train, y_train = X[train_idx], y[train_idx]\n",
    "        X_test, y_test = X[test_idx], y[test_idx]\n",
    "        # standardize based on training data\n",
    "        scaler = StandardScaler().fit(X_train)\n",
    "        X_train_s = scaler.transform(X_train)\n",
    "        X_test_s = scaler.transform(X_test)\n",
    "        for d in d_list:\n",
    "            W, _ = lda_fit(X_train_s, y_train, n_components=d, reg=reg)\n",
    "            Xtr_proj = lda_project(X_train_s, W)\n",
    "            Xte_proj = lda_project(X_test_s, W)\n",
    "            clf = NearestCentroidInProjectedSpace().fit(Xtr_proj, y_train)\n",
    "            y_pred = clf.predict(Xte_proj)\n",
    "            results[d].append(accuracy_score(y_test, y_pred))\n",
    "    # compute mean and std\n",
    "    mean_std = {d: (np.mean(results[d]), np.std(results[d])) for d in d_list}\n",
    "    return mean_std, results\n",
    "\n",
    "# Example run on Iris (d candidates: 1,2)\n",
    "d_list_iris = [1,2]\n",
    "mean_std_iris, raw_iris = evaluate_lda_cv(X_iris, y_iris, d_list_iris, n_splits=10, random_state=42)\n",
    "print('Iris results (mean, std):', mean_std_iris)"
   ]
  },
  {
   "cell_type": "markdown",
   "id": "1433d2f7",
   "metadata": {},
   "source": [
    "## 对 Sonar 的评价\n",
    "\n",
    "如果你已经在本地成功加载 Sonar（上面 `load_sonar()` 的代码成功），可以运行下面的 Cell：\n",
    "\n",
    "- 选择合适的 `d_list_sonar`（例如 `[1,2,5,10,20,30,40,50,60]`）。\n",
    "- 使用 `n_splits=5` 的 StratifiedKFold。\n",
    "\n",
    "如果 Sonar 尚未加载（因网络或未手动放置文件），跳过此 Cell，先做 Iris。"
   ]
  },
  {
   "cell_type": "code",
   "execution_count": 1,
   "id": "17594e51",
   "metadata": {},
   "outputs": [
    {
     "name": "stdout",
     "output_type": "stream",
     "text": [
      "Sonar 未在当前环境加载；如要运行 Sonar 部分，请确保 sonar.all-data 在同目录或环境可联网以自动下载。\n"
     ]
    }
   ],
   "source": [
    "# Only run if X_sonar exists\n",
    "try:\n",
    "    X_sonar\n",
    "    d_list_sonar = [1,2,5,10,20,30,40,50,60]\n",
    "    mean_std_sonar, raw_sonar = evaluate_lda_cv(X_sonar, y_sonar, d_list_sonar, n_splits=5, random_state=42, reg=1e-4)\n",
    "    print('Sonar results (d -> (mean,std)):')\n",
    "    for d in d_list_sonar:\n",
    "        mn, sd = mean_std_sonar[d]\n",
    "        print(f'd={d}: mean acc={mn:.4f}, std={sd:.4f}')\n",
    "except NameError:\n",
    "    print('Sonar 未在当前环境加载；如要运行 Sonar 部分，请确保 sonar.all-data 在同目录或环境可联网以自动下载。')"
   ]
  },
  {
   "cell_type": "markdown",
   "id": "96fadc00",
   "metadata": {},
   "source": [
    "## 绘图：Accuracy vs 投影维数 与 投影散点图（Iris）\n",
    "\n",
    "下面画出 Iris 的 accuracy 随 d 变化（d=1,2）。并展示在前 2 个判别向量下的投影散点图。"
   ]
  },
  {
   "cell_type": "code",
   "execution_count": null,
   "id": "82864e6e",
   "metadata": {},
   "outputs": [],
   "source": [
    "# Accuracy vs d (Iris)\n",
    "d_vals = sorted(mean_std_iris.keys())\n",
    "means = [mean_std_iris[d][0] for d in d_vals]\n",
    "stds = [mean_std_iris[d][1] for d in d_vals]\n",
    "\n",
    "plt.errorbar(d_vals, means, yerr=stds, marker='o', linestyle='-')\n",
    "plt.xlabel('投影维数 d')\n",
    "plt.ylabel('Accuracy (mean ± std)')\n",
    "plt.title('Iris: Accuracy vs projection dimension (handwritten LDA)')\n",
    "plt.xticks(d_vals)\n",
    "plt.grid(True)\n",
    "plt.show()\n",
    "\n",
    "# Scatter in top 2 discriminants\n",
    "W, _ = lda_fit(StandardScaler().fit_transform(X_iris), y_iris, n_components=2)\n",
    "X_iris_proj = lda_project(StandardScaler().fit_transform(X_iris), W)\n",
    "plt.figure(figsize=(6,5))\n",
    "for lab, name in enumerate(iris.target_names):\n",
    "    plt.scatter(X_iris_proj[y_iris==lab,0], X_iris_proj[y_iris==lab,1], label=name, alpha=0.8)\n",
    "plt.xlabel('LD1')\n",
    "plt.ylabel('LD2')\n",
    "plt.title('Iris projected to first 2 LDA components')\n",
    "plt.legend()\n",
    "plt.grid(True)\n",
    "plt.show()"
   ]
  },
  {
   "cell_type": "markdown",
   "id": "363c3a5e",
   "metadata": {},
   "source": [
    "## 与 scikit-learn 的 LDA 做对比\n",
    "\n",
    "使用 `sklearn.discriminant_analysis.LinearDiscriminantAnalysis` 在相同 CV 设置下进行对比，检查准确率与手写实现是否一致。"
   ]
  },
  {
   "cell_type": "code",
   "execution_count": null,
   "id": "d24f3d81",
   "metadata": {},
   "outputs": [],
   "source": [
    "def evaluate_sklearn_lda_cv(X, y, d_list, n_splits=5, random_state=0, solver='svd'):\n",
    "    skf = StratifiedKFold(n_splits=n_splits, shuffle=True, random_state=random_state)\n",
    "    results = {d: [] for d in d_list}\n",
    "    for train_idx, test_idx in skf.split(X, y):\n",
    "        X_train, y_train = X[train_idx], y[train_idx]\n",
    "        X_test, y_test = X[test_idx], y[test_idx]\n",
    "        scaler = StandardScaler().fit(X_train)\n",
    "        X_train_s = scaler.transform(X_train)\n",
    "        X_test_s = scaler.transform(X_test)\n",
    "        for d in d_list:\n",
    "            lda = LinearDiscriminantAnalysis(n_components=d, solver=solver)\n",
    "            lda.fit(X_train_s, y_train)\n",
    "            y_pred = lda.predict(X_test_s)\n",
    "            results[d].append(accuracy_score(y_test, y_pred))\n",
    "    mean_std = {d: (np.mean(results[d]), np.std(results[d])) for d in d_list}\n",
    "    return mean_std, results\n",
    "\n",
    "# Compare on Iris\n",
    "d_list_iris = [1,2]\n",
    "mean_std_sklearn_iris, _ = evaluate_sklearn_lda_cv(X_iris, y_iris, d_list_iris, n_splits=10, random_state=42)\n",
    "print('sklearn LDA (Iris):', mean_std_sklearn_iris)\n",
    "print('handwritten LDA (Iris):', mean_std_iris)"
   ]
  },
  {
   "cell_type": "markdown",
   "id": "46700a15",
   "metadata": {},
   "source": [
    "## 保存结果与报告写作提示\n",
    "\n",
    "- 你可以将输出的图表另存为 PNG（`plt.savefig('figure.png', dpi=300)`）并插入报告。\n",
    "- 在报告中写明：使用 Stratified 10-fold（Iris）和 Stratified 5-fold（Sonar），手写 LDA 与 sklearn 的对比结果（给出均值 ± 标准差）。\n",
    "- 报告附录中贴上关键代码片段（Notebook 中的 cells 就足够）。\n",
    "\n",
    "---\n",
    "\n",
    "**现在我已经把这个 Notebook 生成为文件**，你可以下载并在本地运行。若你需要，我可以把 Notebook 中的某些 cell 进一步简化，让你运行时只需按顺序按 Run（无需阅读代码）并导出结果表格。"
   ]
  }
 ],
 "metadata": {
  "kernelspec": {
   "display_name": "base",
   "language": "python",
   "name": "python3"
  },
  "language_info": {
   "codemirror_mode": {
    "name": "ipython",
    "version": 3
   },
   "file_extension": ".py",
   "mimetype": "text/x-python",
   "name": "python",
   "nbconvert_exporter": "python",
   "pygments_lexer": "ipython3",
   "version": "3.12.7"
  }
 },
 "nbformat": 4,
 "nbformat_minor": 5
}
