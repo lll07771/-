{
 "cells": [
  {
   "cell_type": "markdown",
   "id": "769cc3b8",
   "metadata": {},
   "source": [
    "# Fisher 判别分析实验 (Fisher Linear Discriminant Analysis)"
   ]
  },
  {
   "cell_type": "markdown",
   "id": "7fe67386",
   "metadata": {},
   "source": [
    "## 一、实验目的\n",
    "1. 理解 Fisher 判别（LDA）的基本原理：通过最大化类间方差与类内方差比值来寻找最佳投影方向，实现数据的分类与降维。   \n",
    "2. 掌握在实际数据集上应用 Fisher 判别的方法，包括数据预处理、训练/测试划分、降维与分类。  \n",
    "3. 在不同数据集（低维和高维）上对比实验结果，分析 LDA 的效果与局限性。  \n",
    "4. 学习交叉验证、可视化与结果分析的基本流程。\n"
   ]
  },
  {
   "cell_type": "markdown",
   "id": "1bbceac6",
   "metadata": {},
   "source": [
    "## 二、实验要求\n",
    "- 数据集：  \n",
    "  - **Iris**（3 类，4 维，150 个样本）；  \n",
    "  - **Sonar**（2 类，60 维，208 个样本）。  \n",
    "- 划分方式（三选一，本实验采用 k 折交叉验证）：  \n",
    "  1. 随机划分训练/测试集，多次实验取平均；  \n",
    "  2. **k 折交叉验证**（我选择这个）；  \n",
    "  3. 留一法。  \n",
    "- 针对不同维数，绘制准确率随投影维数变化的曲线。  \n",
    "- 给出实验结果、图表，并撰写分析与总结。\n"
   ]
  },
  {
   "cell_type": "markdown",
   "id": "3d020a13",
   "metadata": {},
   "source": [
    "## 三、实验内容\n",
    "1. **理论回顾**：推导 Fisher 判别的目标函数，理解类内散度矩阵 $S_w$ 与类间散度矩阵 $S_b$。  \n",
    "2. **数据准备**：加载并检查 Iris 与 Sonar 数据集，进行标准化预处理。  \n",
    "3. **算法实现**：  \n",
    "   - 使用 sklearn 的 LDA 实现。  \n",
    "   - 手写 LDA：构造 $S_w, S_b$，求解广义特征值问题，作为对比；  \n",
    "4. **模型评估**：采用 k 折交叉验证，比较不同投影维数下的分类性能。  \n",
    "5. **可视化与分析**：  \n",
    "   - Iris：绘制二维投影散点图；  \n",
    "   - Iris & Sonar：绘制“准确率 vs 投影维数”曲线。  \n",
    "6. **总结**：比较两种数据集上 LDA 的表现，讨论优缺点与改进方向。\n"
   ]
  },
  {
   "cell_type": "markdown",
   "id": "73e5455d",
   "metadata": {},
   "source": [
    "## 四、实验步骤\n",
    "1. 导入必要库与函数。  \n",
    "2. 加载 Iris 和 Sonar 数据集，并进行预处理。  \n",
    "3. 手写实现 LDA 算法，输出投影矩阵。  \n",
    "4. 在训练/测试集上进行分类与验证，记录准确率。  \n",
    "5. 绘制结果曲线与散点图，保存图表。  \n",
    "6. 分析结果，总结实验结论。"
   ]
  },
  {
   "cell_type": "markdown",
   "id": "846b8f86",
   "metadata": {},
   "source": [
    "# 以下是实验代码"
   ]
  },
  {
   "cell_type": "code",
   "execution_count": 15,
   "id": "4ed083ec",
   "metadata": {},
   "outputs": [],
   "source": [
    "# 导入必要的库\n",
    "import numpy as np\n",
    "import pandas as pd\n",
    "import matplotlib.pyplot as plt\n",
    "import seaborn as sns\n",
    "\n",
    "from sklearn import datasets\n",
    "from sklearn.model_selection import train_test_split, cross_val_score, KFold\n",
    "from sklearn.preprocessing import StandardScaler\n",
    "from sklearn.preprocessing import LabelEncoder"
   ]
  },
  {
   "cell_type": "markdown",
   "id": "092b2ba8",
   "metadata": {},
   "source": [
    "# 载入数据集"
   ]
  },
  {
   "cell_type": "code",
   "execution_count": 11,
   "id": "be9d58df",
   "metadata": {},
   "outputs": [
    {
     "name": "stdout",
     "output_type": "stream",
     "text": [
      "Iris shapes: (150, 4) (150, 1)\n",
      "   sepal length  sepal width  petal length  petal width\n",
      "0           5.1          3.5           1.4          0.2\n",
      "1           4.9          3.0           1.4          0.2\n",
      "2           4.7          3.2           1.3          0.2\n",
      "3           4.6          3.1           1.5          0.2\n",
      "4           5.0          3.6           1.4          0.2\n",
      "         class\n",
      "0  Iris-setosa\n",
      "1  Iris-setosa\n",
      "2  Iris-setosa\n",
      "3  Iris-setosa\n",
      "4  Iris-setosa\n",
      "class          \n",
      "Iris-setosa        50\n",
      "Iris-versicolor    50\n",
      "Iris-virginica     50\n",
      "Name: count, dtype: int64\n"
     ]
    }
   ],
   "source": [
    "#Iris 数据集\n",
    "\n",
    "from ucimlrepo import fetch_ucirepo \n",
    "  \n",
    "# fetch dataset \n",
    "iris = fetch_ucirepo(id=53) \n",
    "  \n",
    "# data (as pandas dataframes) \n",
    "X = iris.data.features \n",
    "y = iris.data.targets \n",
    "\n",
    "print('Iris shapes:', X.shape, y.shape)  # (150, 4) (150, 1)\n",
    "print(X.head())\n",
    "print(y.head())\n",
    "print(y.value_counts())\n",
    "# 转为 numpy 方便后续计算\n",
    "X_iris = X.values\n",
    "y_iris = y.values.ravel()\n",
    "# print(X_iris)\n",
    "# print(y_iris)"
   ]
  },
  {
   "cell_type": "code",
   "execution_count": 12,
   "id": "517cf78f",
   "metadata": {},
   "outputs": [
    {
     "name": "stdout",
     "output_type": "stream",
     "text": [
      "Sonar shapes (208, 60) (208, 1)\n",
      "   Attribute1  Attribute2  Attribute3  Attribute4  Attribute5  Attribute6  \\\n",
      "0      0.0200      0.0371      0.0428      0.0207      0.0954      0.0986   \n",
      "1      0.0453      0.0523      0.0843      0.0689      0.1183      0.2583   \n",
      "2      0.0262      0.0582      0.1099      0.1083      0.0974      0.2280   \n",
      "3      0.0100      0.0171      0.0623      0.0205      0.0205      0.0368   \n",
      "4      0.0762      0.0666      0.0481      0.0394      0.0590      0.0649   \n",
      "\n",
      "   Attribute7  Attribute8  Attribute9  Attribute10  ...  Attribute51  \\\n",
      "0      0.1539      0.1601      0.3109       0.2111  ...       0.0232   \n",
      "1      0.2156      0.3481      0.3337       0.2872  ...       0.0125   \n",
      "2      0.2431      0.3771      0.5598       0.6194  ...       0.0033   \n",
      "3      0.1098      0.1276      0.0598       0.1264  ...       0.0241   \n",
      "4      0.1209      0.2467      0.3564       0.4459  ...       0.0156   \n",
      "\n",
      "   Attribute52  Attribute53  Attribute54  Attribute55  Attribute56  \\\n",
      "0       0.0027       0.0065       0.0159       0.0072       0.0167   \n",
      "1       0.0084       0.0089       0.0048       0.0094       0.0191   \n",
      "2       0.0232       0.0166       0.0095       0.0180       0.0244   \n",
      "3       0.0121       0.0036       0.0150       0.0085       0.0073   \n",
      "4       0.0031       0.0054       0.0105       0.0110       0.0015   \n",
      "\n",
      "   Attribute57  Attribute58  Attribute59  Attribute60  \n",
      "0       0.0180       0.0084       0.0090       0.0032  \n",
      "1       0.0140       0.0049       0.0052       0.0044  \n",
      "2       0.0316       0.0164       0.0095       0.0078  \n",
      "3       0.0050       0.0044       0.0040       0.0117  \n",
      "4       0.0072       0.0048       0.0107       0.0094  \n",
      "\n",
      "[5 rows x 60 columns]\n",
      "  class\n",
      "0     R\n",
      "1     R\n",
      "2     R\n",
      "3     R\n",
      "4     R\n",
      "class\n",
      "M        111\n",
      "R         97\n",
      "Name: count, dtype: int64\n"
     ]
    }
   ],
   "source": [
    "# Sonar 数据集\n",
    "# fetch dataset \n",
    "connectionist_bench_sonar_mines_vs_rocks = fetch_ucirepo(id=151) \n",
    "  \n",
    "# data (as pandas dataframes) \n",
    "X = connectionist_bench_sonar_mines_vs_rocks.data.features \n",
    "y = connectionist_bench_sonar_mines_vs_rocks.data.targets \n",
    "\n",
    "print('Sonar shapes',X.shape, y.shape)  # (208, 60) (208, 1)\n",
    "print(X.head())\n",
    "print(y.head())\n",
    "print(y.value_counts())\n",
    "X_sonar = X.values\n",
    "y_sonar = y.values.ravel()"
   ]
  },
  {
   "cell_type": "markdown",
   "id": "33c1c18d",
   "metadata": {},
   "source": [
    "### 把标签从字符串编码为整数（Iris: 'Iris-setosa' 等 -> 0/1/2；Sonar: 'R'/'M' -> 0/1）,  \n",
    "### 并观察一下数据集。"
   ]
  },
  {
   "cell_type": "code",
   "execution_count": 32,
   "id": "61ee2425",
   "metadata": {},
   "outputs": [
    {
     "name": "stdout",
     "output_type": "stream",
     "text": [
      "Iris classes (original order): ['Iris-setosa' 'Iris-versicolor' 'Iris-virginica']\n",
      "Sonar encoded counts (label -> count): (array([0, 1, 2]), array([50, 50, 50], dtype=int64))\n",
      "Iris encoded sample: [0 1 2]\n",
      "Iris encoded shape: (150,)\n",
      "\n",
      "Sonar classes (original order): ['M' 'R']\n",
      "Sonar encoded counts (label -> count): (array([0, 1]), array([111,  97], dtype=int64))\n",
      "Sonar encoded sample: [1 0]\n",
      "Sonar encoded shape: (208,)\n",
      "{'Iris-setosa': 0, 'Iris-versicolor': 1, 'Iris-virginica': 2}\n",
      "{'M': 0, 'R': 1}\n"
     ]
    }
   ],
   "source": [
    "# Iris 编码\n",
    "le_iris = LabelEncoder()               # 1) 创建 LabelEncoder 对象\n",
    "y_iris_enc = le_iris.fit_transform(y_iris) # fit + transform：学习类别映射并将字符串标签转换为整数\n",
    "print(\"Iris classes (original order):\", le_iris.classes_)   # 3) 打印出原始类别的顺序（方便知道编码是哪个对应哪个）\n",
    "print(\"Sonar encoded counts (label -> count):\", np.unique(y_iris_enc, return_counts=True)) # 4) 查看每个编码的数量\n",
    "print(\"Iris encoded sample:\", y_iris_enc[::50])    # 5) 查看每隔五十个的编码结果\n",
    "print(\"Iris encoded shape:\", y_iris_enc.shape)              # 6) 确认形状是 (150,)\n",
    "# Sonar 编码\n",
    "le_sonar = LabelEncoder()\n",
    "y_sonar_enc = le_sonar.fit_transform(y_sonar)\n",
    "print(\"\\nSonar classes (original order):\", le_sonar.classes_)\n",
    "print(\"Sonar encoded counts (label -> count):\", np.unique(y_sonar_enc, return_counts=True))\n",
    "print(\"Sonar encoded sample:\", y_sonar_enc[::104])\n",
    "print(\"Sonar encoded shape:\", y_sonar_enc.shape)\n",
    "\n",
    "# 类别到编码的映射\n",
    "print(dict(zip(le_iris.classes_, range(len(le_iris.classes_)))))\n",
    "print(dict(zip(le_sonar.classes_, range(len(le_sonar.classes_)))))\n"
   ]
  },
  {
   "cell_type": "markdown",
   "id": "6bedd00b",
   "metadata": {},
   "source": [
    "### K折交叉验证（5折）\n",
    "- 选择 5 折是常用经验值：折数过少可能方差较大，折数过多计算量增加且影响不大。\n",
    "- 每折保证类别比例与整体数据集一致（StratifiedKFold），避免类别不均衡影响结果。"
   ]
  },
  {
   "cell_type": "code",
   "execution_count": 52,
   "id": "a3bd3f61",
   "metadata": {},
   "outputs": [
    {
     "name": "stdout",
     "output_type": "stream",
     "text": [
      "=== Iris 数据集 ===\n",
      "Fold 1: 训练集 120, 测试集 30\n",
      "Fold 2: 训练集 120, 测试集 30\n",
      "Fold 3: 训练集 120, 测试集 30\n",
      "Fold 4: 训练集 120, 测试集 30\n",
      "Fold 5: 训练集 120, 测试集 30\n",
      "\n",
      "=== Sonar 数据集 ===\n",
      "Fold 1: 训练集 166, 测试集 42\n",
      "Fold 2: 训练集 166, 测试集 42\n",
      "Fold 3: 训练集 166, 测试集 42\n",
      "Fold 4: 训练集 167, 测试集 41\n",
      "Fold 5: 训练集 167, 测试集 41\n"
     ]
    }
   ],
   "source": [
    "from sklearn.model_selection import StratifiedKFold\n",
    "import numpy as np\n",
    "\n",
    "# 定义 KFold，K=5\n",
    "kf = StratifiedKFold(n_splits=5, shuffle=True, random_state=42)\n",
    "\n",
    "print(\"=== Iris 数据集 ===\")\n",
    "for fold, (train_idx, test_idx) in enumerate(kf.split(X_iris, y_iris_enc), 1):\n",
    "    print(f\"Fold {fold}: 训练集 {len(train_idx)}, 测试集 {len(test_idx)}\")\n",
    "\n",
    "print(\"\\n=== Sonar 数据集 ===\")\n",
    "for fold, (train_idx, test_idx) in enumerate(kf.split(X_sonar, y_sonar_enc), 1):\n",
    "    print(f\"Fold {fold}: 训练集 {len(train_idx)}, 测试集 {len(test_idx)}\")\n"
   ]
  },
  {
   "cell_type": "code",
   "execution_count": 53,
   "id": "b302bf18",
   "metadata": {},
   "outputs": [
    {
     "name": "stdout",
     "output_type": "stream",
     "text": [
      "=== Iris CV ===\n",
      "Fold 1: acc = 1.0000\n",
      "Fold 2: acc = 1.0000\n",
      "Fold 3: acc = 0.9000\n",
      "Fold 4: acc = 1.0000\n",
      "Fold 5: acc = 0.9667\n",
      "Iris mean acc = 0.9733, std = 0.0389\n",
      "\n",
      "=== Sonar CV ===\n",
      "Fold 1: acc = 0.6905\n",
      "Fold 2: acc = 0.7619\n",
      "Fold 3: acc = 0.7143\n",
      "Fold 4: acc = 0.7805\n",
      "Fold 5: acc = 0.7073\n",
      "Sonar mean acc = 0.7309, std = 0.0343\n"
     ]
    }
   ],
   "source": [
    "from sklearn.discriminant_analysis import LinearDiscriminantAnalysis\n",
    "from sklearn.metrics import accuracy_score\n",
    "\n",
    "# 已经创建的 kf = StratifiedKFold(n_splits=5, shuffle=True, random_state=42)\n",
    "\n",
    "def cv_evaluate_lda(X, y, kf):\n",
    "    \"\"\"在给定的 StratifiedKFold 上评估 sklearn 的 LDA，返回每折准确率列表。\"\"\"\n",
    "    accs = []\n",
    "    for fold, (train_idx, test_idx) in enumerate(kf.split(X, y), 1):\n",
    "        # 1) 切出训练/测试数据\n",
    "        X_train, X_test = X[train_idx], X[test_idx]\n",
    "        y_train, y_test = y[train_idx], y[test_idx]\n",
    "\n",
    "        # 2) 在训练集上 fit 标准化器，然后 transform 训练集和测试集\n",
    "        scaler = StandardScaler().fit(X_train) # 只在训练集上 fit（避免信息泄露）\n",
    "        X_train_s = scaler.transform(X_train)\n",
    "        X_test_s = scaler.transform(X_test)\n",
    "\n",
    "        # 3) 在标准化后的训练集上训练 LDA（sklearn 实现）\n",
    "        lda = LinearDiscriminantAnalysis()\n",
    "        lda.fit(X_train_s, y_train)\n",
    "\n",
    "        # 4) 在测试集上预测并计算准确率\n",
    "        y_pred = lda.predict(X_test_s)\n",
    "        acc = accuracy_score(y_test, y_pred)\n",
    "        accs.append(acc)\n",
    "\n",
    "        print(f\"Fold {fold}: acc = {acc:.4f}\")\n",
    "\n",
    "    return np.array(accs)\n",
    "\n",
    "# 对 Iris 评估\n",
    "print(\"=== Iris CV ===\")\n",
    "accs_iris = cv_evaluate_lda(X_iris, y_iris_enc, kf)\n",
    "print(\"Iris mean acc = {:.4f}, std = {:.4f}\\n\".format(accs_iris.mean(), accs_iris.std()))\n",
    "\n",
    "# 对 Sonar 评估\n",
    "print(\"=== Sonar CV ===\")\n",
    "accs_sonar = cv_evaluate_lda(X_sonar, y_sonar_enc, kf)\n",
    "print(\"Sonar mean acc = {:.4f}, std = {:.4f}\".format(accs_sonar.mean(), accs_sonar.std()))\n"
   ]
  },
  {
   "cell_type": "markdown",
   "id": "59ecbc17",
   "metadata": {},
   "source": [
    "### 结果展示表格"
   ]
  },
  {
   "cell_type": "code",
   "execution_count": 57,
   "id": "7f5bb342",
   "metadata": {},
   "outputs": [
    {
     "name": "stdout",
     "output_type": "stream",
     "text": [
      "=== LDA Cross-Validation Results ===\n",
      "  Dataset  Mean Accuracy   Std Dev\n",
      "0    Iris       0.973333  0.038873\n",
      "1   Sonar       0.730894  0.034312\n"
     ]
    }
   ],
   "source": [
    "import pandas as pd\n",
    "\n",
    "# 把结果整理成DataFrame\n",
    "results = pd.DataFrame({\n",
    "    'Dataset': ['Iris', 'Sonar'],\n",
    "    'Mean Accuracy': [accs_iris.mean(), accs_sonar.mean()],\n",
    "    'Std Dev': [accs_iris.std(), accs_sonar.std()]\n",
    "})\n",
    "\n",
    "print('=== LDA Cross-Validation Results ===')\n",
    "print(results)"
   ]
  },
  {
   "cell_type": "markdown",
   "id": "dea7a625",
   "metadata": {},
   "source": [
    "### 可视化"
   ]
  },
  {
   "cell_type": "code",
   "execution_count": null,
   "id": "35fc9918",
   "metadata": {},
   "outputs": [
    {
     "data": {
      "image/png": "[encoded data removed]",
      "text/plain": [
       "<Figure size 1400x500 with 2 Axes>"
      ]
     },
     "metadata": {},
     "output_type": "display_data"
    },
    {
     "name": "stdout",
     "output_type": "stream",
     "text": [
      "=== LDA Cross-Validation Results ===\n",
      "  Dataset  Mean Accuracy   Std Dev\n",
      "0    Iris       0.973333  0.038873\n",
      "1   Sonar       0.730894  0.034312\n"
     ]
    }
   ],
   "source": [
    "import matplotlib.pyplot as plt\n",
    "import numpy as np\n",
    "import pandas as pd\n",
    "\n",
    "# === 准备数据 ===\n",
    "datasets = [\"Iris\", \"Sonar\"]\n",
    "mean_accs = [accs_iris.mean(), accs_sonar.mean()]\n",
    "std_accs = [accs_iris.std(), accs_sonar.std()]\n",
    "\n",
    "folds = np.arange(1, len(accs_iris)+1)\n",
    "\n",
    "# === 创建 Figure 和子图 ===\n",
    "fig, axs = plt.subplots(1, 2, figsize=(14, 5))\n",
    "\n",
    "# ----------- 子图 1: 柱状图 -----------\n",
    "bars = axs[0].bar(datasets, mean_accs, yerr=std_accs, capsize=5, color=[\"skyblue\", \"orange\"], alpha=0.8)\n",
    "axs[0].set_title(\"LDA Cross-Validation Mean Accuracy\", fontsize=14)\n",
    "axs[0].set_ylabel(\"Accuracy\", fontsize=12)\n",
    "axs[0].set_ylim(0, 1.1)\n",
    "\n",
    "# 在柱子上标数值\n",
    "for bar, mean in zip(bars, mean_accs):\n",
    "    axs[0].text(bar.get_x() + bar.get_width()/2, bar.get_height() + 0.02,\n",
    "                f\"{mean:.3f}\", ha='center', va='bottom', fontsize=10)\n",
    "\n",
    "# ----------- 子图 2: 折线图 -----------\n",
    "axs[1].plot(folds, accs_iris, marker='o', linestyle='-', color='skyblue', label='Iris per fold')\n",
    "axs[1].plot(folds, accs_sonar, marker='s', linestyle='--', color='orange', label='Sonar per fold')\n",
    "\n",
    "# 平均水平线\n",
    "axs[1].axhline(accs_iris.mean(), color='skyblue', linestyle=':', label='Iris mean')\n",
    "axs[1].axhline(accs_sonar.mean(), color='orange', linestyle=':', label='Sonar mean')\n",
    "\n",
    "axs[1].set_title(\"LDA Accuracy per Fold\", fontsize=14)\n",
    "axs[1].set_xlabel(\"Fold\", fontsize=12)\n",
    "axs[1].set_ylabel(\"Accuracy\", fontsize=12)\n",
    "axs[1].set_xticks(folds)\n",
    "axs[1].set_ylim(0, 1.1)\n",
    "axs[1].grid(alpha=0.3)\n",
    "axs[1].legend()\n",
    "\n",
    "# 在每个折点标数值\n",
    "for i, acc in enumerate(accs_iris, 1):\n",
    "    axs[1].text(i, acc + 0.02, f\"{acc:.3f}\", ha='center', va='bottom', fontsize=9)\n",
    "for i, acc in enumerate(accs_sonar, 1):\n",
    "    axs[1].text(i, acc + 0.02, f\"{acc:.3f}\", ha='center', va='bottom', fontsize=9)\n",
    "\n",
    "plt.tight_layout()\n",
    "plt.show()\n"
   ]
  },
  {
   "cell_type": "markdown",
   "id": "c0e4f05b",
   "metadata": {},
   "source": [
    "## 实验结果分析\n",
    "\n",
    "### Iris 数据集\n",
    "- **平均准确率**：0.973  \n",
    "- **标准差**：0.039  \n",
    "- 每折准确率波动小，模型表现稳定  \n",
    "- **原因**：低维、样本数量充足、类别均衡，类间差异明显  \n",
    "\n",
    "### Sonar 数据集\n",
    "- **平均准确率**：0.731  \n",
    "- **标准差**：0.034  \n",
    "- 每折准确率波动较小，但整体准确率低于 Iris，模型稳定性一般  \n",
    "- **原因**：高维、样本相对较少、类内散度矩阵可能接近奇异，模型易受训练划分影响  \n",
    "\n",
    "### 对比总结\n",
    "- 低维、多类、大样本的 Iris 数据集，LDA 分类性能高且稳定  \n",
    "- 高维、少样本的 Sonar 数据集，LDA 分类性能相对较低  \n",
    "- 数据集维度、样本量和类别分布对 LDA 的表现影响显著\n",
    "\n"
   ]
  },
  {
   "cell_type": "markdown",
   "id": "e09688f9",
   "metadata": {},
   "source": [
    "### 以下是附加内容（可不看）"
   ]
  },
  {
   "cell_type": "markdown",
   "id": "1d3e6c19",
   "metadata": {},
   "source": [
    "LDA实现"
   ]
  },
  {
   "cell_type": "code",
   "execution_count": 50,
   "id": "40bee7c0",
   "metadata": {},
   "outputs": [],
   "source": [
    "import numpy as np\n",
    "import numpy.linalg as la\n",
    "from sklearn.preprocessing import StandardScaler\n",
    "from sklearn.metrics import accuracy_score\n",
    "\n",
    "def lda_fit(X, y, n_components=None, reg=1e-6):\n",
    "    \"\"\"\n",
    "    手写 LDA（多类通用）。\n",
    "    X: (n_samples, n_features) numpy array\n",
    "    y: (n_samples,) integer labels 0..c-1\n",
    "    n_components: desired number of discriminant directions (<= c-1)\n",
    "    reg: regularization added to S_w for numerical stability\n",
    "    返回：W 投影矩阵 (n_features, n_components)\n",
    "    \"\"\"\n",
    "    X = np.asarray(X)\n",
    "    y = np.asarray(y)\n",
    "    classes = np.unique(y)\n",
    "    n_features = X.shape[1]\n",
    "    if n_components is None:\n",
    "        n_components = min(len(classes)-1, n_features)\n",
    "    # overall mean\n",
    "    mean_overall = X.mean(axis=0)\n",
    "    # within-class scatter S_w and between-class scatter S_b\n",
    "    S_w = np.zeros((n_features, n_features))\n",
    "    S_b = np.zeros((n_features, n_features))\n",
    "    for cl in classes:\n",
    "        Xc = X[y == cl]\n",
    "        mean_c = Xc.mean(axis=0)\n",
    "        # class scatter (within)\n",
    "        Xc_centered = Xc - mean_c\n",
    "        S_w += Xc_centered.T @ Xc_centered\n",
    "        # between\n",
    "        n_c = Xc.shape[0]\n",
    "        mean_diff = (mean_c - mean_overall).reshape(n_features, 1)\n",
    "        S_b += n_c * (mean_diff @ mean_diff.T)\n",
    "    # regularize S_w to avoid singularity\n",
    "    S_w_reg = S_w + reg * np.eye(n_features)\n",
    "    # solve generalized eigenvalue problem: S_b v = lambda S_w v\n",
    "    # compute inv(S_w_reg) @ S_b then eig\n",
    "    mat = la.inv(S_w_reg) @ S_b\n",
    "    eigvals, eigvecs = la.eig(mat)\n",
    "    # sort eigenvectors by eigenvalue magnitude descending\n",
    "    idx = np.argsort(-np.abs(eigvals.real))\n",
    "    eigvecs = eigvecs.real[:, idx]\n",
    "    W = eigvecs[:, :n_components]  # each column is a discriminant direction\n",
    "    return W\n",
    "\n",
    "def lda_project(X, W):\n",
    "    \"\"\"Project X onto columns of W\"\"\"\n",
    "    return np.asarray(X) @ W\n",
    "\n",
    "class NearestCentroid:\n",
    "    \"\"\"简单的最近类均值分类器，用于投影空间\"\"\"\n",
    "    def fit(self, X, y):\n",
    "        self.classes_ = np.unique(y)\n",
    "        self.centroids_ = np.vstack([X[y==c].mean(axis=0) for c in self.classes_])\n",
    "        return self\n",
    "    def predict(self, X):\n",
    "        dists = np.linalg.norm(X[:, None, :] - self.centroids_[None, :, :], axis=2)\n",
    "        idx = np.argmin(dists, axis=1)\n",
    "        return self.classes_[idx]\n",
    "\n",
    "def cv_evaluate_manual_lda(X, y, kf, n_components=None, reg=1e-6):\n",
    "    \"\"\"\n",
    "    在每个 fold:\n",
    "      - 在训练集上 fit StandardScaler -> transform train/test\n",
    "      - 在训练集上用手写 lda_fit 计算 W (n_components)\n",
    "      - 投影 train/test，用 NearestCentroid 分类，计算准确率\n",
    "    返回每折的准确率数组\n",
    "    \"\"\"\n",
    "    accs = []\n",
    "    for fold, (train_idx, test_idx) in enumerate(kf.split(X, y), 1):\n",
    "        X_train, X_test = X[train_idx], X[test_idx]\n",
    "        y_train, y_test = y[train_idx], y[test_idx]\n",
    "\n",
    "        # 标准化（只在训练集上 fit）\n",
    "        scaler = StandardScaler().fit(X_train)\n",
    "        X_train_s = scaler.transform(X_train)\n",
    "        X_test_s = scaler.transform(X_test)\n",
    "\n",
    "        # LDA 拟合：注意 n_components 最大为 c-1\n",
    "        W = lda_fit(X_train_s, y_train, n_components=n_components, reg=reg)\n",
    "\n",
    "        # 投影\n",
    "        X_train_proj = lda_project(X_train_s, W)\n",
    "        X_test_proj = lda_project(X_test_s, W)\n",
    "\n",
    "        # 用最近类均值分类\n",
    "        clf = NearestCentroid().fit(X_train_proj, y_train)\n",
    "        y_pred = clf.predict(X_test_proj)\n",
    "        acc = accuracy_score(y_test, y_pred)\n",
    "        print(f\"Fold {fold}: acc = {acc:.4f}\")\n",
    "        accs.append(acc)\n",
    "    return np.array(accs)\n"
   ]
  },
  {
   "cell_type": "code",
   "execution_count": 51,
   "id": "45fe116d",
   "metadata": {},
   "outputs": [
    {
     "name": "stdout",
     "output_type": "stream",
     "text": [
      "=== Iris manual LDA CV ===\n",
      "Fold 1: acc = 1.0000\n",
      "Fold 2: acc = 1.0000\n",
      "Fold 3: acc = 0.9333\n",
      "Fold 4: acc = 0.9667\n",
      "Fold 5: acc = 0.9333\n",
      "Iris mean acc = 0.9667, std = 0.0298\n",
      "\n",
      "=== Sonar manual LDA CV ===\n",
      "Fold 1: acc = 0.6905\n",
      "Fold 2: acc = 0.7619\n",
      "Fold 3: acc = 0.6905\n",
      "Fold 4: acc = 0.8049\n",
      "Fold 5: acc = 0.7073\n",
      "Sonar mean acc = 0.7310, std = 0.0453\n"
     ]
    }
   ],
   "source": [
    "print(\"=== Iris manual LDA CV ===\")\n",
    "accs_iris_manual = cv_evaluate_manual_lda(X_iris, y_iris_enc, kf, n_components=2, reg=1e-6)\n",
    "print(\"Iris mean acc = {:.4f}, std = {:.4f}\\n\".format(accs_iris_manual.mean(), accs_iris_manual.std()))\n",
    "\n",
    "print(\"=== Sonar manual LDA CV ===\")\n",
    "# 对于 Sonar（2 类），最大 n_components = 1，所以传 1\n",
    "accs_sonar_manual = cv_evaluate_manual_lda(X_sonar, y_sonar_enc, kf, n_components=1, reg=1e-4)\n",
    "print(\"Sonar mean acc = {:.4f}, std = {:.4f}\".format(accs_sonar_manual.mean(), accs_sonar_manual.std()))\n"
   ]
  },
  {
   "cell_type": "markdown",
   "id": "ce3aa058",
   "metadata": {},
   "source": [
    "### 随机训练/测试划分（多次平均）\n",
    "方法说明：  \n",
    "- 将数据随机分为训练集和测试集，例如 70% 训练、30% 测试。\n",
    "- 为了减少划分随机性的影响，重复多次（如 10 次）取平均准确率。"
   ]
  },
  {
   "cell_type": "code",
   "execution_count": 66,
   "id": "323af38d",
   "metadata": {},
   "outputs": [
    {
     "name": "stdout",
     "output_type": "stream",
     "text": [
      "Iris 随机训练/测试平均准确率: 0.9822222222222223\n",
      "Sonar 随机训练/测试平均准确率: 0.738095238095238\n"
     ]
    }
   ],
   "source": [
    "from sklearn.model_selection import train_test_split\n",
    "\n",
    "def random_split_lda(X, y_enc, n_runs=10, test_size=0.3, random_state=42):\n",
    "    np.random.seed(random_state)\n",
    "    accs = []\n",
    "    for i in range(n_runs):\n",
    "        X_train, X_test, y_train, y_test = train_test_split(\n",
    "            X, y_enc, test_size=test_size, stratify=y_enc, random_state=random_state+i\n",
    "        )\n",
    "        # 标准化\n",
    "        scaler = StandardScaler()\n",
    "        X_train_std = scaler.fit_transform(X_train)\n",
    "        X_test_std = scaler.transform(X_test)\n",
    "        \n",
    "        lda = LinearDiscriminantAnalysis()\n",
    "        lda.fit(X_train_std, y_train)\n",
    "        acc = lda.score(X_test_std, y_test)\n",
    "        accs.append(acc)\n",
    "    return np.array(accs)\n",
    "\n",
    "# Iris 数据集\n",
    "accs_iris_random = random_split_lda(X_iris, y_iris_enc)\n",
    "print(\"Iris 随机训练/测试平均准确率:\", accs_iris_random.mean())\n",
    "\n",
    "# Sonar 数据集\n",
    "accs_sonar_random = random_split_lda(X_sonar, y_sonar_enc)\n",
    "print(\"Sonar 随机训练/测试平均准确率:\", accs_sonar_random.mean())\n"
   ]
  },
  {
   "cell_type": "markdown",
   "id": "74943c2b",
   "metadata": {},
   "source": [
    "### 留一法（Leave-One-Out, LOO） = N折交叉验证\n",
    "方法说明：\n",
    "- 每次取一个样本作为测试集，其余作为训练集。\n",
    "- 对数据集的每一个样本都做一次训练和测试，最后计算整体平均准确率。\n",
    "- 优点：最大化使用样本，缺点：计算量大（尤其是大样本数据集）。"
   ]
  },
  {
   "cell_type": "code",
   "execution_count": 67,
   "id": "aacb10bc",
   "metadata": {},
   "outputs": [
    {
     "name": "stdout",
     "output_type": "stream",
     "text": [
      "Iris 留一法平均准确率: 0.98\n",
      "Sonar 留一法平均准确率: 0.7548076923076923\n"
     ]
    }
   ],
   "source": [
    "from sklearn.model_selection import LeaveOneOut\n",
    "\n",
    "def loo_lda(X, y_enc):\n",
    "    loo = LeaveOneOut()\n",
    "    accs = []\n",
    "    for train_idx, test_idx in loo.split(X):\n",
    "        X_train, X_test = X[train_idx], X[test_idx]\n",
    "        y_train, y_test = y_enc[train_idx], y_enc[test_idx]\n",
    "\n",
    "        scaler = StandardScaler()\n",
    "        X_train_std = scaler.fit_transform(X_train)\n",
    "        X_test_std = scaler.transform(X_test)\n",
    "        \n",
    "        lda = LinearDiscriminantAnalysis()\n",
    "        lda.fit(X_train_std, y_train)\n",
    "        accs.append(lda.score(X_test_std, y_test))\n",
    "    return np.array(accs)\n",
    "\n",
    "# Iris 数据集\n",
    "accs_iris_loo = loo_lda(X_iris, y_iris_enc)\n",
    "print(\"Iris 留一法平均准确率:\", accs_iris_loo.mean())\n",
    "\n",
    "# Sonar 数据集（208 个样本，计算较慢）\n",
    "accs_sonar_loo = loo_lda(X_sonar, y_sonar_enc)\n",
    "print(\"Sonar 留一法平均准确率:\", accs_sonar_loo.mean())\n"
   ]
  },
  {
   "cell_type": "code",
   "execution_count": null,
   "id": "23c89756",
   "metadata": {},
   "outputs": [],
   "source": []
  }
 ],
 "metadata": {
  "kernelspec": {
   "display_name": "base",
   "language": "python",
   "name": "python3"
  },
  "language_info": {
   "codemirror_mode": {
    "name": "ipython",
    "version": 3
   },
   "file_extension": ".py",
   "mimetype": "text/x-python",
   "name": "python",
   "nbconvert_exporter": "python",
   "pygments_lexer": "ipython3",
   "version": "3.12.7"
  }
 },
 "nbformat": 4,
 "nbformat_minor": 5
}
